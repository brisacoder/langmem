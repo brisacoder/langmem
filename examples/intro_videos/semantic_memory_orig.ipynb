{
 "cells": [
  {
   "cell_type": "markdown",
   "id": "690f7ef7-9506-46fd-b9b8-f19dbc00ab23",
   "metadata": {},
   "source": [
    "# Semantic Memory\n"
   ]
  },
  {
   "cell_type": "code",
   "execution_count": null,
   "id": "778e3a73-afba-4faf-83f2-715885149ffa",
   "metadata": {},
   "outputs": [],
   "source": [
    "from langgraph.prebuilt import create_react_agent\n",
    "from langgraph.checkpoint.memory import InMemorySaver\n",
    "from langgraph.store.memory import InMemoryStore\n",
    "\n",
    "# pip install langchain langchain-openai langchain-anthropic langchain-google-vertexai\n",
    "from langchain.chat_models import init_chat_model\n",
    "\n",
    "checkpointer = InMemorySaver()\n",
    "store = InMemoryStore()"
   ]
  },
  {
   "cell_type": "code",
   "execution_count": null,
   "id": "823cac23",
   "metadata": {},
   "outputs": [],
   "source": [
    "llm_gpt_5 = init_chat_model(\"openai:gpt-5\")"
   ]
  },
  {
   "cell_type": "code",
   "execution_count": null,
   "id": "c3a7d7e7-907d-490f-a568-3c4bf4790467",
   "metadata": {},
   "outputs": [],
   "source": [
    "agent = create_react_agent(llm_gpt_5, tools=[], store=store, checkpointer=checkpointer)"
   ]
  },
  {
   "cell_type": "code",
   "execution_count": null,
   "id": "7908d3b6-da10-497d-992c-77e6439d832f",
   "metadata": {},
   "outputs": [],
   "source": [
    "def chat(agent, txt, thread_id):\n",
    "    result_state = agent.invoke(\n",
    "        {\"messages\": [{\"role\": \"user\", \"content\": txt}]},\n",
    "        config={\"configurable\": {\"thread_id\": thread_id}},\n",
    "    )\n",
    "    return result_state[\"messages\"][-1].content"
   ]
  },
  {
   "cell_type": "code",
   "execution_count": null,
   "id": "a4e8d540-4f64-417d-9f65-27abc4b06f4f",
   "metadata": {},
   "outputs": [],
   "source": [
    "thread_1 = \"thread-1\"\n",
    "chat(\n",
    "    agent,\n",
    "    \"Hi there, I'm training for a half marathon in 2 months - could you propose a daily training plan to prepare?\",\n",
    "    thread_1,\n",
    ")"
   ]
  },
  {
   "cell_type": "code",
   "execution_count": null,
   "id": "c8289d65-440c-4bcd-959d-f160842b0d6f",
   "metadata": {},
   "outputs": [],
   "source": [
    "chat(agent, \"Nice! Wish me luck!\", thread_1)"
   ]
  },
  {
   "cell_type": "code",
   "execution_count": null,
   "id": "ea8b8907-9ee2-4969-836a-f32600a7d6ae",
   "metadata": {},
   "outputs": [],
   "source": [
    "thread_2 = \"thread-2\"\n",
    "chat(\n",
    "    agent,\n",
    "    \"Remember what I'm supposed to do for my training this week? It's week 3...\",\n",
    "    thread_2,\n",
    ")"
   ]
  },
  {
   "cell_type": "markdown",
   "id": "c5a26b13-e646-4a26-b289-a9b485b755e4",
   "metadata": {},
   "source": [
    "## Adding Memory\n",
    "\n",
    "We'll use regular tools.\n"
   ]
  },
  {
   "cell_type": "code",
   "execution_count": 26,
   "id": "7daf1c41-7fe8-4c79-8b6c-3a8fb7995ee9",
   "metadata": {},
   "outputs": [],
   "source": [
    "from langmem import create_manage_memory_tool, create_search_memory_tool\n",
    "\n",
    "from pydantic import BaseModel\n",
    "\n",
    "class PreferenceMemory(BaseModel):\n",
    "    \"\"\"Store preferences about the user.\"\"\"\n",
    "    category: str\n",
    "    preferences: list[str]\n",
    "    context: str\n",
    "    recent_memories: list[str] = []\n",
    "\n",
    "\n",
    "class UserProfile(BaseModel):\n",
    "    name: str\n",
    "    age: int | None = None\n",
    "    preferences: dict | None = None   \n",
    "    recent_memories: list[str] = []\n",
    "\n",
    "\n",
    "store = InMemoryStore(\n",
    "    index={\n",
    "        \"dims\": 1536,\n",
    "        \"embed\": \"openai:text-embedding-3-small\"\n",
    "    }\n",
    ")\n",
    "\n",
    "INSTRUCTIONS = (\n",
    "    \"Proactively call this tool when you:\\n\\n\"\n",
    "    \"1. Identify a new USER preference.\\n\"\n",
    "    \"2. Receive an explicit USER request to remember something or otherwise alter your behavior.\\n\"\n",
    "    \"3. Are working and want to record important context.\\n\"\n",
    "    \"4. Identify that an existing MEMORY is incorrect or outdated.\\n\"\n",
    "    \"5. Always store recent memories proactively.\"\n",
    ")\n",
    "\n",
    "namespace = (\"agent_memories\",)\n",
    "memory_tools = [\n",
    "    create_manage_memory_tool(instructions=INSTRUCTIONS, namespace=namespace, schema=PreferenceMemory, actions_permitted=(\"create\", \"update\", \"delete\")),\n",
    "    create_search_memory_tool(namespace)\n",
    "]\n",
    "checkpointer = InMemorySaver()\n",
    "agent = create_react_agent(llm_gpt_5, tools=memory_tools, store=store, checkpointer=checkpointer, debug=True)"
   ]
  },
  {
   "cell_type": "code",
   "execution_count": 27,
   "id": "e4edaea7-5554-4b12-af49-08e423b04577",
   "metadata": {},
   "outputs": [
    {
     "data": {
      "text/plain": [
       "'Great goal! Here’s a practical 8‑week, daily-structured plan to get you ready. It uses effort-based paces so it fits most fitness levels. If you share your current weekly mileage, longest recent run, and any goal time, I can fine-tune distances and paces.\\n\\nHow to use this plan\\n- Intensity guide: \\n  - Easy = conversational (RPE 3–4).\\n  - Tempo = comfortably hard, around 10K–half pace (RPE 6–7).\\n  - Intervals = 5K pace (RPE 7–8).\\n  - Long run = easy to steady (RPE 4–5).\\n- Warm-up/cooldown: 10–15 min easy jog + drills before quality days; 10 min easy after.\\n- Strength: 20–30 min 2x/week (glutes, calves, hamstrings, core).\\n- Fueling: On long runs ≥75 min, practice gels every 30–40 min + fluids/electrolytes.\\n\\nWeekly structure (same each week)\\n- Mon: Rest + strength/mobility 20–30 min\\n- Tue: Quality workout 1\\n- Wed: Easy run\\n- Thu: Quality workout 2\\n- Fri: Rest or 30–45 min easy cross-train + mobility\\n- Sat: Easy run\\n- Sun: Long run\\n\\nMileage guidance\\n- Choose the low end if you’re newer (10–20 mi/week base). Choose the high end if you’re comfortable with 20–30+ mi/week.\\n- If needed, trim Wed/Sat by 0.5–1 mi to fit your time or keep fatigue in check.\\n\\nWeek-by-week prescription\\nWeek 1\\n- Tue: 6 x 400m at 5K pace, 200m jog recoveries (total 4–5 mi)\\n- Wed: Easy 3–4 mi\\n- Thu: Tempo 2 mi continuous (total 4–5 mi)\\n- Sat: Easy 3 mi\\n- Sun: Long 6–8 mi easy\\n\\nWeek 2\\n- Tue: 4 x 800m at 10K pace, 2–3 min jog (total 5–6 mi)\\n- Wed: Easy 4 mi + 4 strides\\n- Thu: Tempo 2.5–3 mi (total 5–6 mi)\\n- Sat: Easy 3–4 mi\\n- Sun: Long 7–9 mi\\n\\nWeek 3\\n- Tue: Hills 6–8 x 45–60 sec hard, jog back (total 5–6 mi)\\n- Wed: Easy 4 mi\\n- Thu: Tempo 3 mi (or 2 x 1.5 mi) (total 5–6 mi)\\n- Sat: Easy 3–4 mi\\n- Sun: Long 8–10 mi\\n\\nWeek 4\\n- Tue: 5 x 1000m at 10K pace, 2–3 min jog (total 6–7 mi)\\n- Wed: Easy 4–5 mi + 4 strides\\n- Thu: Progression 5–6 mi (start easy, finish last 2 mi steady/tempo)\\n- Sat: Easy 3–4 mi\\n- Sun: Long 9–11 mi\\n\\nWeek 5\\n- Tue: 3 x 1 mi at 10K–HM pace, 2–3 min jog (total 7–8 mi)\\n- Wed: Easy 4–5 mi\\n- Thu: Tempo 3–4 mi continuous or 2 x 2 mi (total 6–7 mi)\\n- Sat: Easy 4 mi\\n- Sun: Long 10–12 mi (last 2 mi steady, not hard)\\n\\nWeek 6 (peak)\\n- Tue: 6 x 800m at 5K pace, 2–3 min jog (total 6–7 mi)\\n- Wed: Easy 5 mi\\n- Thu: HM-pace block: 2 mi easy + 3–4 mi at HM effort + 1 mi easy (total 6–7 mi)\\n- Sat: Easy 4 mi\\n- Sun: Long 11–13 mi (last 2–3 mi steady)\\n\\nWeek 7 (taper begins)\\n- Tue: 4 x 800m at 10K pace (total 5–6 mi)\\n- Wed: Easy 4 mi + 4 strides\\n- Thu: Light tempo 2 mi (total 4–5 mi)\\n- Sat: Easy 3 mi\\n- Sun: Long 8–10 mi easy\\n\\nWeek 8 (race week)\\n- Tue: 4 mi easy + 4 x 20s strides\\n- Wed: 3 mi easy\\n- Thu: 3–4 mi with 8–10 min at HM effort (optional)\\n- Sat: 20–30 min shakeout easy + 4 x 20s strides\\n- Sun: Race day – Half marathon\\n\\nAdjustments and tips\\n- Only 5 days/week available: Drop Fri cross-train and either Wed or Sat easy run.\\n- Feeling cooked: Replace a quality day with easy running, or cut reps by 20–30%.\\n- Niggle/injury warning: Swap running for low-impact cross-training until pain-free.\\n- Pace targeting: If you have a recent 5K/10K result, I can calculate precise training and race paces.\\n\\nWant me to personalize this with exact mileages/paces and rest days? Share your current weekly mileage, longest run, available days, any injuries, and your goal finish time.'"
      ]
     },
     "execution_count": 27,
     "metadata": {},
     "output_type": "execute_result"
    }
   ],
   "source": [
    "thread_1 = \"thread-1\"\n",
    "chat(\n",
    "    agent,\n",
    "    \"Hi there, I'm training for a half marathon in 2 months - could you propose a daily training plan to prepare?\",\n",
    "    thread_1,\n",
    ")"
   ]
  },
  {
   "cell_type": "code",
   "execution_count": 28,
   "id": "3c4b037a-ab09-43fb-addf-1969af81988d",
   "metadata": {},
   "outputs": [
    {
     "name": "stdout",
     "output_type": "stream",
     "text": [
      "You’ve got this—good luck! I’ve saved your detailed training framework and weekly structure so we can reference and adjust as you go. If anything changes (schedule, goal time, niggles), tell me and I’ll update the plan.\n"
     ]
    }
   ],
   "source": [
    "print(\n",
    "    chat(\n",
    "        agent,\n",
    "        \"Nice! Wish me luck! Please note down the detailed memories for me :)\",\n",
    "        thread_1,\n",
    "    )\n",
    ")"
   ]
  },
  {
   "cell_type": "code",
   "execution_count": 29,
   "id": "163c8514",
   "metadata": {},
   "outputs": [
    {
     "name": "stdout",
     "output_type": "stream",
     "text": [
      "\n",
      "Stored memories:\n",
      "\n",
      "Memory 584366c8-cd97-4d6b-9b04-991efd7b6780:\n",
      "Content: {'category': 'Fitness', 'preferences': ['Training for a half marathon in ~8 weeks', 'Prefers a daily-structured 8-week plan', 'Weekly structure: Mon rest+strength; Tue quality workout; Wed easy run; Thu quality workout; Fri rest or easy cross-train; Sat easy run; Sun long run', 'Effort-based pacing (RPE): Easy 3–4; Tempo 6–7; Intervals 7–8; Long run 4–5', 'Strength training 2x/week (20–30 min: glutes, calves, hamstrings, core)', 'Fueling on long runs ≥75 min: gels every 30–40 min + fluids/electrolytes', 'Taper in weeks 7–8; race on Sun of week 8'], 'context': 'Half marathon prep plan created today; target race at end of week 8. Use this structure to guide weekly check-ins and adjustments.', 'recent_memories': ['Saved 8-week HM training framework and weekly structure.', 'Week 1 key sessions: Tue 6x400m @5K pace; Thu tempo 2 mi; Sun long 6–8 mi.']}\n",
      "Preferences: ['Training for a half marathon in ~8 weeks', 'Prefers a daily-structured 8-week plan', 'Weekly structure: Mon rest+strength; Tue quality workout; Wed easy run; Thu quality workout; Fri rest or easy cross-train; Sat easy run; Sun long run', 'Effort-based pacing (RPE): Easy 3–4; Tempo 6–7; Intervals 7–8; Long run 4–5', 'Strength training 2x/week (20–30 min: glutes, calves, hamstrings, core)', 'Fueling on long runs ≥75 min: gels every 30–40 min + fluids/electrolytes', 'Taper in weeks 7–8; race on Sun of week 8']\n",
      "Recent: ['Saved 8-week HM training framework and weekly structure.', 'Week 1 key sessions: Tue 6x400m @5K pace; Thu tempo 2 mi; Sun long 6–8 mi.']\n"
     ]
    }
   ],
   "source": [
    "# Retrieve and display stored memories\n",
    "print(\"\\nStored memories:\")\n",
    "memories = store.search((\"agent_memories\",))\n",
    "for memory in memories:\n",
    "    print(f\"\\nMemory {memory.key}:\")\n",
    "    print(f\"Content: {memory.value['content']}\")\n",
    "    print(f\"Preferences: {memory.value['content']['preferences']}\")\n",
    "    print(f\"Recent: {memory.value['content']['recent_memories']}\")"
   ]
  },
  {
   "cell_type": "code",
   "execution_count": 30,
   "id": "479d3c7d-7ee1-46b4-ad6f-3ee849644575",
   "metadata": {},
   "outputs": [
    {
     "data": {
      "text/plain": [
       "'Here’s your Week 3 plan based on your half marathon schedule:\\n\\n- Mon: Rest + 20–30 min strength (glutes, calves, hamstrings, core)\\n- Tue: Intervals – 5 x 800 m @ 10K effort (RPE 7–8). Warm up 10–15 min easy + drills/strides; 400 m jog (or 2–3 min easy) between reps; cool down 10 min\\n- Wed: Easy run 3–5 miles @ RPE 3–4 (optional 4 x 20-sec strides)\\n- Thu: Tempo – 3 miles continuous @ RPE 6–7. Warm up 10–15 min easy; cool down 10 min\\n- Fri: Rest or easy cross-train 30–45 min + mobility\\n- Sat: Easy run 3–5 miles @ RPE 3–4\\n- Sun: Long run 8–9 miles @ RPE 4–5; take a gel every 30–40 min and fluids/electrolytes. Optional last 1–2 miles steady if you feel good\\n\\nIf you’re feeling cooked, trim volume by 10–20%. Want me to convert any of this to time-based or estimate paces from a recent 5K/10K?'"
      ]
     },
     "execution_count": 30,
     "metadata": {},
     "output_type": "execute_result"
    }
   ],
   "source": [
    "thread_2 = \"thread-2\"\n",
    "chat(\n",
    "    agent,\n",
    "    \"Remember what I'm supposed to do for my training this week? It's week 3...\",\n",
    "    thread_2,\n",
    ")"
   ]
  },
  {
   "cell_type": "code",
   "execution_count": null,
   "id": "9ea0cfb5-4fdb-4680-9c34-7eec063acbf5",
   "metadata": {},
   "outputs": [],
   "source": [
    "chat(\n",
    "    agent,\n",
    "    \"That may be tricky. I just sprained my ankle. Could you update my plan to include more cross training? Be sure to update the existing key of our plan\",\n",
    "    thread_2,\n",
    ")"
   ]
  },
  {
   "cell_type": "markdown",
   "id": "8f562a4e-0ec5-4c70-8027-7791813ec644",
   "metadata": {},
   "source": [
    "## Different User Memories\n"
   ]
  },
  {
   "cell_type": "code",
   "execution_count": null,
   "id": "2fba9529-1118-441b-941e-35ed2d127949",
   "metadata": {},
   "outputs": [],
   "source": [
    "from langmem import create_manage_memory_tool, create_search_memory_tool\n",
    "\n",
    "store = InMemoryStore(index={\"dims\": 1536, \"embed\": \"openai:text-embedding-3-small\"})\n",
    "\n",
    "namespace = (\"agent_memories\", \"{user_id}\")\n",
    "memory_tools = [\n",
    "    create_manage_memory_tool(\n",
    "        namespace, actions_permitted=(\"create\", \"update\", \"delete\")\n",
    "    ),\n",
    "    create_search_memory_tool(namespace),\n",
    "]\n",
    "checkpointer = InMemorySaver()\n",
    "\n",
    "agent = create_react_agent(\n",
    "    llm_gpt_5, tools=memory_tools, store=store, checkpointer=checkpointer\n",
    ")"
   ]
  },
  {
   "cell_type": "code",
   "execution_count": null,
   "id": "e1736845-41f7-4ce3-8aec-436e18c8add3",
   "metadata": {},
   "outputs": [],
   "source": [
    "def chat(agent, txt, thread_id, user_id):\n",
    "    result_state = agent.invoke(\n",
    "        {\"messages\": [{\"role\": \"user\", \"content\": txt}]},\n",
    "        config={\"configurable\": {\"thread_id\": thread_id, \"user_id\": user_id}},\n",
    "    )\n",
    "    return result_state[\"messages\"][-1].content"
   ]
  },
  {
   "cell_type": "code",
   "execution_count": null,
   "id": "fa459758-3241-46b7-a1cc-38ee513d9db2",
   "metadata": {},
   "outputs": [],
   "source": [
    "thread_1 = \"thread-1\"\n",
    "user_id = \"User-A\"\n",
    "chat(\n",
    "    agent,\n",
    "    \"Hi I'm Will, I'm training for a half marathon in 2 months - could you propose a daily training plan to prepare and help me stay honest??\",\n",
    "    thread_1,\n",
    "    user_id,\n",
    ")"
   ]
  },
  {
   "cell_type": "code",
   "execution_count": null,
   "id": "8ea8e615-58eb-4b02-9084-90acd4b063c9",
   "metadata": {},
   "outputs": [],
   "source": [
    "thread_1 = \"thread-2\"\n",
    "user_id2 = \"User-B\"\n",
    "chat(\n",
    "    agent,\n",
    "    \"Hi I'm John, I'm learning chess - could you help me become great??\",\n",
    "    thread_1,\n",
    "    user_id2,\n",
    ")"
   ]
  },
  {
   "cell_type": "code",
   "execution_count": null,
   "id": "6f972317-4050-4af0-8353-3e1667c977e6",
   "metadata": {},
   "outputs": [],
   "source": [
    "chat(agent, \"Do you remember me liking any sports?\", thread_1, user_id2)"
   ]
  },
  {
   "cell_type": "code",
   "execution_count": null,
   "id": "1592e7af-54c3-4e1e-bcfe-e5299b1606f5",
   "metadata": {},
   "outputs": [],
   "source": [
    "items = store.search((\"agent_memories\",))\n",
    "for item in items:\n",
    "    print(item.namespace, item.value)"
   ]
  },
  {
   "cell_type": "markdown",
   "id": "d8f505cc-736f-4894-a214-1872ec8e17f7",
   "metadata": {},
   "source": [
    "## \"Eager\" memory retrieval\n",
    "\n",
    "We can fetch memories before the first LLM call to simplify its response. Otherwise, it has known and unknown unknowns so will almost always try to search for some subclass of questions.\n"
   ]
  },
  {
   "cell_type": "code",
   "execution_count": null,
   "id": "dd8ceedf-7c3b-4609-9bb3-542c94f71c66",
   "metadata": {},
   "outputs": [],
   "source": [
    "from langmem import create_manage_memory_tool, create_search_memory_tool\n",
    "from langgraph.config import get_store\n",
    "\n",
    "store = InMemoryStore(index={\"dims\": 1536, \"embed\": \"openai:text-embedding-3-small\"})\n",
    "\n",
    "namespace = (\"agent_memories\",)\n",
    "memory_tools = [\n",
    "    create_manage_memory_tool(\n",
    "        namespace, actions_permitted=(\"create\", \"update\", \"delete\")\n",
    "    ),\n",
    "    create_search_memory_tool(namespace),\n",
    "]\n",
    "checkpointer = InMemorySaver()\n",
    "\n",
    "\n",
    "def prompt(state):\n",
    "    # Search over memories based on the messages\n",
    "    store = get_store()\n",
    "    items = store.search(namespace, query=state[\"messages\"][-1].content)\n",
    "    memories = \"\\n\\n\".join(str(item) for item in items)\n",
    "    system_msg = {\"role\": \"system\", \"content\": f\"## Memories:\\n\\n{memories}\"}\n",
    "    return [system_msg] + state[\"messages\"]\n",
    "\n",
    "\n",
    "agent = create_react_agent(\n",
    "    llm_gpt_5, prompt=prompt, tools=memory_tools, store=store, checkpointer=checkpointer\n",
    ")"
   ]
  },
  {
   "cell_type": "code",
   "execution_count": null,
   "id": "667804de-3b2b-46cd-ac1b-9cd3e01aa9f1",
   "metadata": {},
   "outputs": [],
   "source": [
    "thread_1 = \"thread-1\"\n",
    "chat(\n",
    "    agent,\n",
    "    \"Hi there, I'm training for a half marathon in 2 months - could you propose a daily training plan to prepare?\",\n",
    "    thread_1,\n",
    "    None,\n",
    ")"
   ]
  },
  {
   "cell_type": "code",
   "execution_count": null,
   "id": "078c7701-1a41-4219-8b7d-a3a241afa58a",
   "metadata": {},
   "outputs": [],
   "source": [
    "print(\n",
    "    chat(\n",
    "        agent,\n",
    "        \"Nice! Wish me luck! Please note down the detailed memories for me :)\",\n",
    "        thread_1,\n",
    "        None,\n",
    "    )\n",
    ")"
   ]
  },
  {
   "cell_type": "code",
   "execution_count": null,
   "id": "7d3f2ab4-837c-4867-8788-562010cbfa72",
   "metadata": {},
   "outputs": [],
   "source": [
    "thread_2 = \"thread-2\"\n",
    "chat(\n",
    "    agent,\n",
    "    \"What I'm supposed to do for my training this week? It's week 3...\",\n",
    "    thread_2,\n",
    "    None,\n",
    ")"
   ]
  },
  {
   "cell_type": "code",
   "execution_count": null,
   "id": "d1b7f269-ae7e-4134-86f9-fe2d5dec9e74",
   "metadata": {},
   "outputs": [],
   "source": []
  },
  {
   "cell_type": "code",
   "execution_count": null,
   "id": "469301a1",
   "metadata": {},
   "outputs": [],
   "source": []
  }
 ],
 "metadata": {
  "kernelspec": {
   "display_name": "langmem",
   "language": "python",
   "name": "python3"
  },
  "language_info": {
   "codemirror_mode": {
    "name": "ipython",
    "version": 3
   },
   "file_extension": ".py",
   "mimetype": "text/x-python",
   "name": "python",
   "nbconvert_exporter": "python",
   "pygments_lexer": "ipython3",
   "version": "3.13.5"
  }
 },
 "nbformat": 4,
 "nbformat_minor": 5
}
